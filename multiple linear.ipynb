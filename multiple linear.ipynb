{
 "cells": [
  {
   "cell_type": "code",
   "execution_count": 1,
   "id": "3aca85d5",
   "metadata": {},
   "outputs": [],
   "source": [
    "import pandas as pd\n",
    "import numpy as np\n",
    "import matplotlib.pyplot as plt\n"
   ]
  },
  {
   "cell_type": "code",
   "execution_count": 2,
   "id": "85f675b6",
   "metadata": {},
   "outputs": [],
   "source": [
    "df=pd.read_csv(\"E:\\\\COURSE\\\\data.csv\")"
   ]
  },
  {
   "cell_type": "code",
   "execution_count": 3,
   "id": "224f7fbc",
   "metadata": {},
   "outputs": [
    {
     "data": {
      "text/html": [
       "<div>\n",
       "<style scoped>\n",
       "    .dataframe tbody tr th:only-of-type {\n",
       "        vertical-align: middle;\n",
       "    }\n",
       "\n",
       "    .dataframe tbody tr th {\n",
       "        vertical-align: top;\n",
       "    }\n",
       "\n",
       "    .dataframe thead th {\n",
       "        text-align: right;\n",
       "    }\n",
       "</style>\n",
       "<table border=\"1\" class=\"dataframe\">\n",
       "  <thead>\n",
       "    <tr style=\"text-align: right;\">\n",
       "      <th></th>\n",
       "      <th>Age</th>\n",
       "      <th>Gender</th>\n",
       "      <th>Education Level</th>\n",
       "      <th>Job Title</th>\n",
       "      <th>Years of Experience</th>\n",
       "      <th>Salary</th>\n",
       "    </tr>\n",
       "  </thead>\n",
       "  <tbody>\n",
       "    <tr>\n",
       "      <th>0</th>\n",
       "      <td>32.0</td>\n",
       "      <td>Male</td>\n",
       "      <td>Bachelor's</td>\n",
       "      <td>Software Engineer</td>\n",
       "      <td>5.0</td>\n",
       "      <td>90000.0</td>\n",
       "    </tr>\n",
       "    <tr>\n",
       "      <th>1</th>\n",
       "      <td>28.0</td>\n",
       "      <td>Female</td>\n",
       "      <td>Master's</td>\n",
       "      <td>Data Analyst</td>\n",
       "      <td>3.0</td>\n",
       "      <td>65000.0</td>\n",
       "    </tr>\n",
       "    <tr>\n",
       "      <th>2</th>\n",
       "      <td>45.0</td>\n",
       "      <td>Male</td>\n",
       "      <td>PhD</td>\n",
       "      <td>Senior Manager</td>\n",
       "      <td>15.0</td>\n",
       "      <td>150000.0</td>\n",
       "    </tr>\n",
       "    <tr>\n",
       "      <th>3</th>\n",
       "      <td>36.0</td>\n",
       "      <td>Female</td>\n",
       "      <td>Bachelor's</td>\n",
       "      <td>Sales Associate</td>\n",
       "      <td>7.0</td>\n",
       "      <td>60000.0</td>\n",
       "    </tr>\n",
       "    <tr>\n",
       "      <th>4</th>\n",
       "      <td>52.0</td>\n",
       "      <td>Male</td>\n",
       "      <td>Master's</td>\n",
       "      <td>Director</td>\n",
       "      <td>20.0</td>\n",
       "      <td>200000.0</td>\n",
       "    </tr>\n",
       "  </tbody>\n",
       "</table>\n",
       "</div>"
      ],
      "text/plain": [
       "    Age  Gender Education Level          Job Title  Years of Experience  \\\n",
       "0  32.0    Male      Bachelor's  Software Engineer                  5.0   \n",
       "1  28.0  Female        Master's       Data Analyst                  3.0   \n",
       "2  45.0    Male             PhD     Senior Manager                 15.0   \n",
       "3  36.0  Female      Bachelor's    Sales Associate                  7.0   \n",
       "4  52.0    Male        Master's           Director                 20.0   \n",
       "\n",
       "     Salary  \n",
       "0   90000.0  \n",
       "1   65000.0  \n",
       "2  150000.0  \n",
       "3   60000.0  \n",
       "4  200000.0  "
      ]
     },
     "execution_count": 3,
     "metadata": {},
     "output_type": "execute_result"
    }
   ],
   "source": [
    "df.head()"
   ]
  },
  {
   "cell_type": "code",
   "execution_count": 4,
   "id": "ca7e2781",
   "metadata": {},
   "outputs": [
    {
     "data": {
      "text/html": [
       "<div>\n",
       "<style scoped>\n",
       "    .dataframe tbody tr th:only-of-type {\n",
       "        vertical-align: middle;\n",
       "    }\n",
       "\n",
       "    .dataframe tbody tr th {\n",
       "        vertical-align: top;\n",
       "    }\n",
       "\n",
       "    .dataframe thead th {\n",
       "        text-align: right;\n",
       "    }\n",
       "</style>\n",
       "<table border=\"1\" class=\"dataframe\">\n",
       "  <thead>\n",
       "    <tr style=\"text-align: right;\">\n",
       "      <th></th>\n",
       "      <th>Age</th>\n",
       "      <th>Gender</th>\n",
       "      <th>Education Level</th>\n",
       "      <th>Job Title</th>\n",
       "      <th>Years of Experience</th>\n",
       "      <th>Salary</th>\n",
       "    </tr>\n",
       "  </thead>\n",
       "  <tbody>\n",
       "    <tr>\n",
       "      <th>370</th>\n",
       "      <td>35.0</td>\n",
       "      <td>Female</td>\n",
       "      <td>Bachelor's</td>\n",
       "      <td>Senior Marketing Analyst</td>\n",
       "      <td>8.0</td>\n",
       "      <td>85000.0</td>\n",
       "    </tr>\n",
       "    <tr>\n",
       "      <th>371</th>\n",
       "      <td>43.0</td>\n",
       "      <td>Male</td>\n",
       "      <td>Master's</td>\n",
       "      <td>Director of Operations</td>\n",
       "      <td>19.0</td>\n",
       "      <td>170000.0</td>\n",
       "    </tr>\n",
       "    <tr>\n",
       "      <th>372</th>\n",
       "      <td>29.0</td>\n",
       "      <td>Female</td>\n",
       "      <td>Bachelor's</td>\n",
       "      <td>Junior Project Manager</td>\n",
       "      <td>2.0</td>\n",
       "      <td>40000.0</td>\n",
       "    </tr>\n",
       "    <tr>\n",
       "      <th>373</th>\n",
       "      <td>34.0</td>\n",
       "      <td>Male</td>\n",
       "      <td>Bachelor's</td>\n",
       "      <td>Senior Operations Coordinator</td>\n",
       "      <td>7.0</td>\n",
       "      <td>90000.0</td>\n",
       "    </tr>\n",
       "    <tr>\n",
       "      <th>374</th>\n",
       "      <td>44.0</td>\n",
       "      <td>Female</td>\n",
       "      <td>PhD</td>\n",
       "      <td>Senior Business Analyst</td>\n",
       "      <td>15.0</td>\n",
       "      <td>150000.0</td>\n",
       "    </tr>\n",
       "  </tbody>\n",
       "</table>\n",
       "</div>"
      ],
      "text/plain": [
       "      Age  Gender Education Level                      Job Title  \\\n",
       "370  35.0  Female      Bachelor's       Senior Marketing Analyst   \n",
       "371  43.0    Male        Master's         Director of Operations   \n",
       "372  29.0  Female      Bachelor's         Junior Project Manager   \n",
       "373  34.0    Male      Bachelor's  Senior Operations Coordinator   \n",
       "374  44.0  Female             PhD        Senior Business Analyst   \n",
       "\n",
       "     Years of Experience    Salary  \n",
       "370                  8.0   85000.0  \n",
       "371                 19.0  170000.0  \n",
       "372                  2.0   40000.0  \n",
       "373                  7.0   90000.0  \n",
       "374                 15.0  150000.0  "
      ]
     },
     "execution_count": 4,
     "metadata": {},
     "output_type": "execute_result"
    }
   ],
   "source": [
    "df.tail()"
   ]
  },
  {
   "cell_type": "code",
   "execution_count": 5,
   "id": "0961d4c3",
   "metadata": {},
   "outputs": [],
   "source": [
    "abc=df.dropna()"
   ]
  },
  {
   "cell_type": "code",
   "execution_count": 14,
   "id": "e12acdc7",
   "metadata": {},
   "outputs": [
    {
     "name": "stderr",
     "output_type": "stream",
     "text": [
      "C:\\Users\\Subash\\AppData\\Local\\Temp\\ipykernel_7248\\2198333061.py:3: SettingWithCopyWarning: \n",
      "A value is trying to be set on a copy of a slice from a DataFrame.\n",
      "Try using .loc[row_indexer,col_indexer] = value instead\n",
      "\n",
      "See the caveats in the documentation: https://pandas.pydata.org/pandas-docs/stable/user_guide/indexing.html#returning-a-view-versus-a-copy\n",
      "  abc[[\"Gender\",\"Education Level\",\"Job Title\"]]=en1.fit_transform(abc[[\"Gender\",\"Education Level\",\"Job Title\"]])\n"
     ]
    }
   ],
   "source": [
    "from sklearn.preprocessing import OrdinalEncoder\n",
    "en1=OrdinalEncoder()\n",
    "abc[[\"Gender\",\"Education Level\",\"Job Title\"]]=en1.fit_transform(abc[[\"Gender\",\"Education Level\",\"Job Title\"]])"
   ]
  },
  {
   "cell_type": "code",
   "execution_count": 15,
   "id": "31097f5a",
   "metadata": {},
   "outputs": [
    {
     "data": {
      "text/html": [
       "<div>\n",
       "<style scoped>\n",
       "    .dataframe tbody tr th:only-of-type {\n",
       "        vertical-align: middle;\n",
       "    }\n",
       "\n",
       "    .dataframe tbody tr th {\n",
       "        vertical-align: top;\n",
       "    }\n",
       "\n",
       "    .dataframe thead th {\n",
       "        text-align: right;\n",
       "    }\n",
       "</style>\n",
       "<table border=\"1\" class=\"dataframe\">\n",
       "  <thead>\n",
       "    <tr style=\"text-align: right;\">\n",
       "      <th></th>\n",
       "      <th>Age</th>\n",
       "      <th>Gender</th>\n",
       "      <th>Education Level</th>\n",
       "      <th>Job Title</th>\n",
       "      <th>Years of Experience</th>\n",
       "      <th>Salary</th>\n",
       "    </tr>\n",
       "  </thead>\n",
       "  <tbody>\n",
       "    <tr>\n",
       "      <th>0</th>\n",
       "      <td>32.0</td>\n",
       "      <td>1.0</td>\n",
       "      <td>0.0</td>\n",
       "      <td>159.0</td>\n",
       "      <td>5.0</td>\n",
       "      <td>90000.0</td>\n",
       "    </tr>\n",
       "    <tr>\n",
       "      <th>1</th>\n",
       "      <td>28.0</td>\n",
       "      <td>0.0</td>\n",
       "      <td>1.0</td>\n",
       "      <td>17.0</td>\n",
       "      <td>3.0</td>\n",
       "      <td>65000.0</td>\n",
       "    </tr>\n",
       "    <tr>\n",
       "      <th>2</th>\n",
       "      <td>45.0</td>\n",
       "      <td>1.0</td>\n",
       "      <td>2.0</td>\n",
       "      <td>130.0</td>\n",
       "      <td>15.0</td>\n",
       "      <td>150000.0</td>\n",
       "    </tr>\n",
       "    <tr>\n",
       "      <th>3</th>\n",
       "      <td>36.0</td>\n",
       "      <td>0.0</td>\n",
       "      <td>0.0</td>\n",
       "      <td>101.0</td>\n",
       "      <td>7.0</td>\n",
       "      <td>60000.0</td>\n",
       "    </tr>\n",
       "    <tr>\n",
       "      <th>4</th>\n",
       "      <td>52.0</td>\n",
       "      <td>1.0</td>\n",
       "      <td>1.0</td>\n",
       "      <td>22.0</td>\n",
       "      <td>20.0</td>\n",
       "      <td>200000.0</td>\n",
       "    </tr>\n",
       "    <tr>\n",
       "      <th>...</th>\n",
       "      <td>...</td>\n",
       "      <td>...</td>\n",
       "      <td>...</td>\n",
       "      <td>...</td>\n",
       "      <td>...</td>\n",
       "      <td>...</td>\n",
       "    </tr>\n",
       "    <tr>\n",
       "      <th>370</th>\n",
       "      <td>35.0</td>\n",
       "      <td>0.0</td>\n",
       "      <td>0.0</td>\n",
       "      <td>131.0</td>\n",
       "      <td>8.0</td>\n",
       "      <td>85000.0</td>\n",
       "    </tr>\n",
       "    <tr>\n",
       "      <th>371</th>\n",
       "      <td>43.0</td>\n",
       "      <td>1.0</td>\n",
       "      <td>1.0</td>\n",
       "      <td>30.0</td>\n",
       "      <td>19.0</td>\n",
       "      <td>170000.0</td>\n",
       "    </tr>\n",
       "    <tr>\n",
       "      <th>372</th>\n",
       "      <td>29.0</td>\n",
       "      <td>0.0</td>\n",
       "      <td>0.0</td>\n",
       "      <td>70.0</td>\n",
       "      <td>2.0</td>\n",
       "      <td>40000.0</td>\n",
       "    </tr>\n",
       "    <tr>\n",
       "      <th>373</th>\n",
       "      <td>34.0</td>\n",
       "      <td>1.0</td>\n",
       "      <td>0.0</td>\n",
       "      <td>137.0</td>\n",
       "      <td>7.0</td>\n",
       "      <td>90000.0</td>\n",
       "    </tr>\n",
       "    <tr>\n",
       "      <th>374</th>\n",
       "      <td>44.0</td>\n",
       "      <td>0.0</td>\n",
       "      <td>2.0</td>\n",
       "      <td>110.0</td>\n",
       "      <td>15.0</td>\n",
       "      <td>150000.0</td>\n",
       "    </tr>\n",
       "  </tbody>\n",
       "</table>\n",
       "<p>373 rows × 6 columns</p>\n",
       "</div>"
      ],
      "text/plain": [
       "      Age  Gender  Education Level  Job Title  Years of Experience    Salary\n",
       "0    32.0     1.0              0.0      159.0                  5.0   90000.0\n",
       "1    28.0     0.0              1.0       17.0                  3.0   65000.0\n",
       "2    45.0     1.0              2.0      130.0                 15.0  150000.0\n",
       "3    36.0     0.0              0.0      101.0                  7.0   60000.0\n",
       "4    52.0     1.0              1.0       22.0                 20.0  200000.0\n",
       "..    ...     ...              ...        ...                  ...       ...\n",
       "370  35.0     0.0              0.0      131.0                  8.0   85000.0\n",
       "371  43.0     1.0              1.0       30.0                 19.0  170000.0\n",
       "372  29.0     0.0              0.0       70.0                  2.0   40000.0\n",
       "373  34.0     1.0              0.0      137.0                  7.0   90000.0\n",
       "374  44.0     0.0              2.0      110.0                 15.0  150000.0\n",
       "\n",
       "[373 rows x 6 columns]"
      ]
     },
     "execution_count": 15,
     "metadata": {},
     "output_type": "execute_result"
    }
   ],
   "source": [
    "abc"
   ]
  },
  {
   "cell_type": "code",
   "execution_count": null,
   "id": "597ca557",
   "metadata": {},
   "outputs": [],
   "source": []
  },
  {
   "cell_type": "code",
   "execution_count": 149,
   "id": "503c87f7",
   "metadata": {},
   "outputs": [
    {
     "data": {
      "text/plain": [
       "[array([0., 1., 2.])]"
      ]
     },
     "execution_count": 149,
     "metadata": {},
     "output_type": "execute_result"
    }
   ],
   "source": [
    "one.categories_"
   ]
  },
  {
   "cell_type": "code",
   "execution_count": 150,
   "id": "cefefe7c",
   "metadata": {},
   "outputs": [],
   "source": [
    "x=abc.drop([\"Age\",\"Gender\",\"Job Title\",\"Salary\"],axis='columns').values"
   ]
  },
  {
   "cell_type": "code",
   "execution_count": 34,
   "id": "722360be",
   "metadata": {},
   "outputs": [],
   "source": [
    "x=abc.iloc[:,:4].values"
   ]
  },
  {
   "cell_type": "code",
   "execution_count": 35,
   "id": "bc47ae19",
   "metadata": {},
   "outputs": [
    {
     "data": {
      "text/plain": [
       "array([[ 32.,   1.,   0., 159.],\n",
       "       [ 28.,   0.,   1.,  17.],\n",
       "       [ 45.,   1.,   2., 130.],\n",
       "       ...,\n",
       "       [ 29.,   0.,   0.,  70.],\n",
       "       [ 34.,   1.,   0., 137.],\n",
       "       [ 44.,   0.,   2., 110.]])"
      ]
     },
     "execution_count": 35,
     "metadata": {},
     "output_type": "execute_result"
    }
   ],
   "source": [
    "x"
   ]
  },
  {
   "cell_type": "code",
   "execution_count": 32,
   "id": "801b5af5",
   "metadata": {},
   "outputs": [],
   "source": [
    "y=abc.iloc[:,-1].values"
   ]
  },
  {
   "cell_type": "code",
   "execution_count": 33,
   "id": "bd4c8cad",
   "metadata": {},
   "outputs": [
    {
     "data": {
      "text/plain": [
       "array([ 90000.,  65000., 150000.,  60000., 200000.,  55000., 120000.,\n",
       "        80000.,  45000., 110000.,  75000., 140000.,  65000., 130000.,\n",
       "        40000., 125000.,  90000., 115000.,  35000., 180000.,  80000.,\n",
       "       190000.,  50000.,  60000., 140000.,  45000., 110000.,  40000.,\n",
       "       140000.,  90000., 250000.,  55000.,  75000.,  65000., 170000.,\n",
       "        45000.,  60000., 115000.,  40000., 160000.,  80000., 190000.,\n",
       "        60000.,  45000., 130000.,  40000.,  75000., 180000., 120000.,\n",
       "        35000., 130000.,  85000.,  60000., 200000.,  50000.,  95000.,\n",
       "        65000., 140000.,  55000., 105000., 170000.,  50000.,  80000.,\n",
       "       180000.,  35000.,  90000., 120000.,  45000.,  90000., 150000.,\n",
       "        65000.,  70000., 190000.,  40000., 120000.,  95000., 160000.,\n",
       "       100000., 180000.,  55000.,  70000.,  80000.,  30000., 250000.,\n",
       "        40000.,  95000.,  45000.,  80000., 135000.,  55000., 120000.,\n",
       "        40000., 105000., 170000.,  75000.,  65000., 160000.,  35000.,\n",
       "        90000., 110000.,  45000.,  95000., 150000.,  50000.,  80000.,\n",
       "       220000.,  50000.,  60000., 100000.,  40000., 110000.,  95000.,\n",
       "       130000.,  90000.,  35000.,  95000.,  65000., 170000.,  45000.,\n",
       "       120000., 100000., 180000.,  50000.,  80000., 140000.,  40000.,\n",
       "        95000., 110000.,  50000., 105000., 160000.,  45000., 100000.,\n",
       "       160000.,  35000.,  55000., 140000.,  50000.,  60000., 120000.,\n",
       "        40000., 110000.,  50000., 135000.,  40000.,  90000., 150000.,\n",
       "        60000.,  80000., 175000.,  45000., 120000., 140000.,  35000.,\n",
       "        95000., 110000.,  50000., 115000., 185000.,  40000.,  90000.,\n",
       "       175000.,  45000.,  80000., 120000.,  35000., 110000., 150000.,\n",
       "        50000., 105000., 180000.,  40000., 140000.,  45000.,  85000.,\n",
       "       140000.,  50000.,  80000., 170000.,  40000., 105000., 145000.,\n",
       "        40000.,  85000., 130000.,  95000., 100000., 180000.,  35000.,\n",
       "        95000., 170000.,  45000.,  95000., 120000.,  40000.,  90000.,\n",
       "       155000.,  55000., 110000., 180000.,  45000., 130000.,  45000.,\n",
       "        90000., 160000.,  50000., 120000., 170000.,  40000., 110000.,\n",
       "       150000.,  40000.,  85000., 130000., 100000.,  95000., 180000.,\n",
       "        35000., 100000., 170000.,  45000., 100000., 140000.,  40000.,\n",
       "       105000., 160000.,  70000., 120000., 190000.,  45000., 120000.,\n",
       "        50000.,  85000., 140000.,  45000., 100000., 140000.,  70000.,\n",
       "       120000., 160000.,  40000., 120000., 150000.,  70000.,  95000.,\n",
       "       180000.,  50000.,  95000., 170000.,  40000., 110000., 150000.,\n",
       "        40000.,  85000., 130000., 100000.,  95000., 180000.,    350.,\n",
       "       120000., 160000.,  50000., 110000.,  40000.,  95000., 140000.,\n",
       "        60000., 110000., 150000.,  60000.,  90000., 180000.,  40000.,\n",
       "       120000., 160000.,  70000.,  95000., 180000.,  50000.,  95000.,\n",
       "       170000.,  35000., 100000., 150000.,  60000.,  85000., 130000.,\n",
       "        65000., 110000., 180000.,  40000.,  90000., 140000.,  60000.,\n",
       "       130000., 160000.,  40000., 100000., 180000.,  55000., 120000.,\n",
       "       150000.,  70000.,  95000., 180000.,  50000., 120000., 170000.,\n",
       "        35000., 100000., 150000.,  60000.,  85000., 130000.,  80000.,\n",
       "        95000.,  40000., 120000., 160000.,  65000., 130000., 180000.,\n",
       "        40000., 100000., 150000.,  55000., 110000., 180000.,  50000.,\n",
       "       130000., 160000.,  60000.,  95000., 170000.,  40000.,  90000.,\n",
       "       150000.,  70000.,  90000., 170000.,  50000., 150000., 160000.,\n",
       "        60000.,  85000., 180000.,  35000., 110000., 160000.,  55000.,\n",
       "       110000., 180000.,  50000., 130000., 160000.,  60000.,  95000.,\n",
       "       170000.,  40000.,  90000., 150000.,  70000.,  90000., 170000.,\n",
       "        50000., 150000., 160000.,  60000.,  85000., 170000.,  40000.,\n",
       "        90000., 150000.])"
      ]
     },
     "execution_count": 33,
     "metadata": {},
     "output_type": "execute_result"
    }
   ],
   "source": [
    "y"
   ]
  },
  {
   "cell_type": "code",
   "execution_count": 66,
   "id": "a6195ea2",
   "metadata": {},
   "outputs": [],
   "source": [
    "from sklearn.model_selection import train_test_split\n",
    "x_train,x_test,y_train,y_test=train_test_split(x,y,test_size=0.30,random_state=1)"
   ]
  },
  {
   "cell_type": "code",
   "execution_count": 73,
   "id": "0e7659b5",
   "metadata": {},
   "outputs": [
    {
     "data": {
      "text/plain": [
       "(261, 4)"
      ]
     },
     "execution_count": 73,
     "metadata": {},
     "output_type": "execute_result"
    }
   ],
   "source": [
    "x_train.shape"
   ]
  },
  {
   "cell_type": "code",
   "execution_count": 76,
   "id": "dd61eaf7",
   "metadata": {},
   "outputs": [
    {
     "data": {
      "text/plain": [
       "(261,)"
      ]
     },
     "execution_count": 76,
     "metadata": {},
     "output_type": "execute_result"
    }
   ],
   "source": [
    "y_train.shape"
   ]
  },
  {
   "cell_type": "code",
   "execution_count": 74,
   "id": "59bfd484",
   "metadata": {},
   "outputs": [
    {
     "data": {
      "text/plain": [
       "(112, 4)"
      ]
     },
     "execution_count": 74,
     "metadata": {},
     "output_type": "execute_result"
    }
   ],
   "source": [
    "x_test.shape"
   ]
  },
  {
   "cell_type": "code",
   "execution_count": 75,
   "id": "671791f2",
   "metadata": {},
   "outputs": [
    {
     "data": {
      "text/plain": [
       "(112,)"
      ]
     },
     "execution_count": 75,
     "metadata": {},
     "output_type": "execute_result"
    }
   ],
   "source": [
    "y_test.shape"
   ]
  },
  {
   "cell_type": "code",
   "execution_count": 67,
   "id": "d9fb1379",
   "metadata": {},
   "outputs": [
    {
     "data": {
      "text/html": [
       "<style>#sk-container-id-3 {color: black;}#sk-container-id-3 pre{padding: 0;}#sk-container-id-3 div.sk-toggleable {background-color: white;}#sk-container-id-3 label.sk-toggleable__label {cursor: pointer;display: block;width: 100%;margin-bottom: 0;padding: 0.3em;box-sizing: border-box;text-align: center;}#sk-container-id-3 label.sk-toggleable__label-arrow:before {content: \"▸\";float: left;margin-right: 0.25em;color: #696969;}#sk-container-id-3 label.sk-toggleable__label-arrow:hover:before {color: black;}#sk-container-id-3 div.sk-estimator:hover label.sk-toggleable__label-arrow:before {color: black;}#sk-container-id-3 div.sk-toggleable__content {max-height: 0;max-width: 0;overflow: hidden;text-align: left;background-color: #f0f8ff;}#sk-container-id-3 div.sk-toggleable__content pre {margin: 0.2em;color: black;border-radius: 0.25em;background-color: #f0f8ff;}#sk-container-id-3 input.sk-toggleable__control:checked~div.sk-toggleable__content {max-height: 200px;max-width: 100%;overflow: auto;}#sk-container-id-3 input.sk-toggleable__control:checked~label.sk-toggleable__label-arrow:before {content: \"▾\";}#sk-container-id-3 div.sk-estimator input.sk-toggleable__control:checked~label.sk-toggleable__label {background-color: #d4ebff;}#sk-container-id-3 div.sk-label input.sk-toggleable__control:checked~label.sk-toggleable__label {background-color: #d4ebff;}#sk-container-id-3 input.sk-hidden--visually {border: 0;clip: rect(1px 1px 1px 1px);clip: rect(1px, 1px, 1px, 1px);height: 1px;margin: -1px;overflow: hidden;padding: 0;position: absolute;width: 1px;}#sk-container-id-3 div.sk-estimator {font-family: monospace;background-color: #f0f8ff;border: 1px dotted black;border-radius: 0.25em;box-sizing: border-box;margin-bottom: 0.5em;}#sk-container-id-3 div.sk-estimator:hover {background-color: #d4ebff;}#sk-container-id-3 div.sk-parallel-item::after {content: \"\";width: 100%;border-bottom: 1px solid gray;flex-grow: 1;}#sk-container-id-3 div.sk-label:hover label.sk-toggleable__label {background-color: #d4ebff;}#sk-container-id-3 div.sk-serial::before {content: \"\";position: absolute;border-left: 1px solid gray;box-sizing: border-box;top: 0;bottom: 0;left: 50%;z-index: 0;}#sk-container-id-3 div.sk-serial {display: flex;flex-direction: column;align-items: center;background-color: white;padding-right: 0.2em;padding-left: 0.2em;position: relative;}#sk-container-id-3 div.sk-item {position: relative;z-index: 1;}#sk-container-id-3 div.sk-parallel {display: flex;align-items: stretch;justify-content: center;background-color: white;position: relative;}#sk-container-id-3 div.sk-item::before, #sk-container-id-3 div.sk-parallel-item::before {content: \"\";position: absolute;border-left: 1px solid gray;box-sizing: border-box;top: 0;bottom: 0;left: 50%;z-index: -1;}#sk-container-id-3 div.sk-parallel-item {display: flex;flex-direction: column;z-index: 1;position: relative;background-color: white;}#sk-container-id-3 div.sk-parallel-item:first-child::after {align-self: flex-end;width: 50%;}#sk-container-id-3 div.sk-parallel-item:last-child::after {align-self: flex-start;width: 50%;}#sk-container-id-3 div.sk-parallel-item:only-child::after {width: 0;}#sk-container-id-3 div.sk-dashed-wrapped {border: 1px dashed gray;margin: 0 0.4em 0.5em 0.4em;box-sizing: border-box;padding-bottom: 0.4em;background-color: white;}#sk-container-id-3 div.sk-label label {font-family: monospace;font-weight: bold;display: inline-block;line-height: 1.2em;}#sk-container-id-3 div.sk-label-container {text-align: center;}#sk-container-id-3 div.sk-container {/* jupyter's `normalize.less` sets `[hidden] { display: none; }` but bootstrap.min.css set `[hidden] { display: none !important; }` so we also need the `!important` here to be able to override the default hidden behavior on the sphinx rendered scikit-learn.org. See: https://github.com/scikit-learn/scikit-learn/issues/21755 */display: inline-block !important;position: relative;}#sk-container-id-3 div.sk-text-repr-fallback {display: none;}</style><div id=\"sk-container-id-3\" class=\"sk-top-container\"><div class=\"sk-text-repr-fallback\"><pre>LinearRegression()</pre><b>In a Jupyter environment, please rerun this cell to show the HTML representation or trust the notebook. <br />On GitHub, the HTML representation is unable to render, please try loading this page with nbviewer.org.</b></div><div class=\"sk-container\" hidden><div class=\"sk-item\"><div class=\"sk-estimator sk-toggleable\"><input class=\"sk-toggleable__control sk-hidden--visually\" id=\"sk-estimator-id-3\" type=\"checkbox\" checked><label for=\"sk-estimator-id-3\" class=\"sk-toggleable__label sk-toggleable__label-arrow\">LinearRegression</label><div class=\"sk-toggleable__content\"><pre>LinearRegression()</pre></div></div></div></div></div>"
      ],
      "text/plain": [
       "LinearRegression()"
      ]
     },
     "execution_count": 67,
     "metadata": {},
     "output_type": "execute_result"
    }
   ],
   "source": [
    "from sklearn.linear_model import LinearRegression\n",
    "feet=LinearRegression()\n",
    "feet.fit(x_train,y_train)"
   ]
  },
  {
   "cell_type": "code",
   "execution_count": 68,
   "id": "cbd0b31c",
   "metadata": {},
   "outputs": [],
   "source": [
    "#predict\n",
    "y_pred=feet.predict(x_test)"
   ]
  },
  {
   "cell_type": "code",
   "execution_count": 60,
   "id": "15dc7719",
   "metadata": {},
   "outputs": [
    {
     "data": {
      "text/plain": [
       "array([ 40000.,  40000.,  50000., 140000.,  85000., 140000.,  60000.,\n",
       "       115000.,  40000., 190000.,  70000., 130000., 150000., 105000.,\n",
       "       120000.,  60000.,  45000.,  40000., 150000., 180000.,  90000.,\n",
       "        95000., 120000.,  40000., 170000.,  40000.,  45000.,  50000.,\n",
       "       120000.,  65000.,  70000., 100000., 100000., 120000.,  45000.,\n",
       "       130000.,  75000., 110000.,  90000.,  60000., 120000., 150000.,\n",
       "       125000., 180000., 170000.,  55000.,  55000., 105000.,  80000.,\n",
       "        90000., 120000.,  95000., 100000.,  95000.,  80000., 180000.,\n",
       "        90000.,  40000.,  40000.,  50000.,  45000., 160000., 150000.,\n",
       "        40000.,  35000.,  95000.,  95000., 170000.,  50000., 150000.,\n",
       "        65000.,  45000., 110000.,  35000., 180000.,  50000.,  50000.,\n",
       "        85000., 180000.,  55000.,  55000.,  80000.,  40000.,  40000.,\n",
       "        35000., 190000.,  95000.,  45000.,  35000.,  50000.,  45000.,\n",
       "        50000.,  50000., 155000.,  40000., 170000.,  50000., 100000.,\n",
       "       180000., 110000., 110000., 150000., 120000., 170000.,  65000.,\n",
       "        95000., 110000., 120000., 150000., 100000., 115000., 120000.,\n",
       "       140000.,  90000., 185000., 110000.,  35000., 100000.,  50000.,\n",
       "       150000., 180000., 180000.,  35000.,  65000., 160000.,  50000.,\n",
       "       100000., 170000.,  45000., 145000., 100000.,  95000.,  40000.,\n",
       "        90000., 160000., 160000.,  65000., 180000., 170000.,  40000.,\n",
       "        35000.,  95000., 105000., 130000.,  65000.,  50000.,  45000.,\n",
       "       140000., 100000.,  75000.])"
      ]
     },
     "execution_count": 60,
     "metadata": {},
     "output_type": "execute_result"
    }
   ],
   "source": [
    "y_test"
   ]
  },
  {
   "cell_type": "code",
   "execution_count": 41,
   "id": "a23ce026",
   "metadata": {},
   "outputs": [
    {
     "data": {
      "text/plain": [
       "array([[ 28.,   0.,   0.,  10.],\n",
       "       [ 30.,   1.,   0.,  49.],\n",
       "       [ 29.,   0.,   0.,  38.],\n",
       "       [ 45.,   1.,   1., 152.],\n",
       "       [ 35.,   0.,   0., 131.],\n",
       "       [ 44.,   0.,   2., 150.],\n",
       "       [ 32.,   0.,   0.,  64.],\n",
       "       [ 42.,   1.,   1.,  95.],\n",
       "       [ 28.,   1.,   0.,  49.],\n",
       "       [ 51.,   0.,   1.,  28.],\n",
       "       [ 33.,   0.,   0.,  66.],\n",
       "       [ 40.,   1.,   0., 118.],\n",
       "       [ 44.,   0.,   2., 139.],\n",
       "       [ 35.,   1.,   1.,  93.],\n",
       "       [ 36.,   1.,   2.,  91.],\n",
       "       [ 33.,   1.,   0.,  49.],\n",
       "       [ 30.,   1.,   0.,  65.],\n",
       "       [ 28.,   1.,   0.,  50.],\n",
       "       [ 42.,   0.,   2., 115.],\n",
       "       [ 50.,   0.,   1.,  25.],\n",
       "       [ 34.,   1.,   0., 110.],\n",
       "       [ 36.,   1.,   0., 135.],\n",
       "       [ 39.,   1.,   0., 135.],\n",
       "       [ 29.,   0.,   0.,  70.],\n",
       "       [ 51.,   0.,   1.,  30.],\n",
       "       [ 30.,   0.,   0.,  60.],\n",
       "       [ 31.,   0.,   0.,  34.],\n",
       "       [ 33.,   1.,   0.,  76.],\n",
       "       [ 42.,   0.,   1.,  93.],\n",
       "       [ 28.,   0.,   1.,  17.],\n",
       "       [ 34.,   0.,   0.,  59.],\n",
       "       [ 40.,   0.,   0., 149.],\n",
       "       [ 40.,   0.,   1., 154.],\n",
       "       [ 43.,   1.,   0., 144.],\n",
       "       [ 30.,   1.,   0.,  48.],\n",
       "       [ 40.,   0.,   0., 134.],\n",
       "       [ 29.,   1.,   1., 158.],\n",
       "       [ 37.,   0.,   1., 160.],\n",
       "       [ 38.,   0.,   1.,  21.],\n",
       "       [ 40.,   0.,   0.,  34.],\n",
       "       [ 42.,   0.,   1.,  11.],\n",
       "       [ 49.,   0.,   1., 122.],\n",
       "       [ 44.,   1.,   0.,  89.],\n",
       "       [ 48.,   0.,   1.,  26.],\n",
       "       [ 47.,   1.,   1.,  23.],\n",
       "       [ 29.,   1.,   0.,  81.],\n",
       "       [ 31.,   0.,   0.,  82.],\n",
       "       [ 43.,   1.,   0., 164.],\n",
       "       [ 31.,   1.,   0., 104.],\n",
       "       [ 34.,   1.,   1.,   4.],\n",
       "       [ 38.,   0.,   0., 137.],\n",
       "       [ 35.,   1.,   0., 143.],\n",
       "       [ 33.,   1.,   0., 140.],\n",
       "       [ 36.,   0.,   0., 134.],\n",
       "       [ 34.,   0.,   1.,   3.],\n",
       "       [ 47.,   0.,   1.,  29.],\n",
       "       [ 37.,   1.,   0., 118.],\n",
       "       [ 28.,   1.,   0.,  59.],\n",
       "       [ 30.,   0.,   0.,  63.],\n",
       "       [ 30.,   0.,   0.,  20.],\n",
       "       [ 29.,   0.,   0.,  71.],\n",
       "       [ 50.,   0.,   0.,  89.],\n",
       "       [ 45.,   1.,   2., 114.],\n",
       "       [ 29.,   1.,   0.,  63.],\n",
       "       [ 26.,   1.,   0.,  47.],\n",
       "       [ 36.,   1.,   0., 104.],\n",
       "       [ 36.,   1.,   0., 135.],\n",
       "       [ 47.,   1.,   1.,  29.],\n",
       "       [ 27.,   0.,   1.,  72.],\n",
       "       [ 44.,   0.,   2., 110.],\n",
       "       [ 27.,   0.,   1., 170.],\n",
       "       [ 26.,   0.,   0.,  82.],\n",
       "       [ 35.,   1.,   1., 152.],\n",
       "       [ 29.,   0.,   0.,  50.],\n",
       "       [ 48.,   0.,   1.,  42.]])"
      ]
     },
     "execution_count": 41,
     "metadata": {},
     "output_type": "execute_result"
    }
   ],
   "source": [
    "x_test"
   ]
  },
  {
   "cell_type": "code",
   "execution_count": 88,
   "id": "e91da2fe",
   "metadata": {},
   "outputs": [],
   "source": [
    "feet_data=feet.predict([[29,1,2,150]])"
   ]
  },
  {
   "cell_type": "code",
   "execution_count": 89,
   "id": "2da4bbf2",
   "metadata": {},
   "outputs": [
    {
     "data": {
      "text/plain": [
       "array([85334.01571948])"
      ]
     },
     "execution_count": 89,
     "metadata": {},
     "output_type": "execute_result"
    }
   ],
   "source": [
    "feet_data"
   ]
  },
  {
   "cell_type": "code",
   "execution_count": 84,
   "id": "e3b44a3a",
   "metadata": {},
   "outputs": [],
   "source": [
    "feet_data2=feet.score(x_train, y_train)"
   ]
  },
  {
   "cell_type": "code",
   "execution_count": 85,
   "id": "00fcd2b3",
   "metadata": {},
   "outputs": [
    {
     "name": "stdout",
     "output_type": "stream",
     "text": [
      "Train score: 0.8768598752509973\n",
      "Test score: 0.9271832852957753\n"
     ]
    }
   ],
   "source": [
    "print(\"Train score:\",feet.score( x_train,y_train))\n",
    "print(\"Test score:\",feet.score(x_test,y_test))"
   ]
  },
  {
   "cell_type": "code",
   "execution_count": null,
   "id": "5b069108",
   "metadata": {},
   "outputs": [],
   "source": []
  },
  {
   "cell_type": "code",
   "execution_count": null,
   "id": "8f95f924",
   "metadata": {},
   "outputs": [],
   "source": []
  }
 ],
 "metadata": {
  "kernelspec": {
   "display_name": "Python 3 (ipykernel)",
   "language": "python",
   "name": "python3"
  },
  "language_info": {
   "codemirror_mode": {
    "name": "ipython",
    "version": 3
   },
   "file_extension": ".py",
   "mimetype": "text/x-python",
   "name": "python",
   "nbconvert_exporter": "python",
   "pygments_lexer": "ipython3",
   "version": "3.11.4"
  }
 },
 "nbformat": 4,
 "nbformat_minor": 5
}
